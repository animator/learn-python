{
  "nbformat": 4,
  "nbformat_minor": 0,
  "metadata": {
    "colab": {
      "provenance": []
    },
    "kernelspec": {
      "name": "python3",
      "display_name": "Python 3"
    },
    "language_info": {
      "name": "python"
    }
  },
  "cells": [
    {
      "cell_type": "markdown",
      "source": [
        "**Introduction to DataFrames**\n",
        "Pandas DataFrame is two-dimensional size-mutable, potentially heterogeneous tabular data structure with labeled axes (rows and columns). A Data frame is a two-dimensional data structure, i.e., data is aligned in a tabular fashion in rows and columns. Pandas DataFrame consists of three principal components, the data, rows, and columns.\n",
        "\n",
        "Basic Operations:\n",
        "\n",
        "\n",
        "1.  Creating a dataFrame\n",
        "2.  Dealing with rows and columns\n",
        "\n",
        "1.   Indexing and selecting Data\n",
        "2.   Iterating over rows and columns\n",
        "\n",
        "\n",
        "\n",
        "\n",
        "\n",
        "\n",
        "\n",
        "\n",
        "\n",
        "\n",
        "\n",
        "\n",
        "\n"
      ],
      "metadata": {
        "id": "UHMDsGhmLj91"
      }
    },
    {
      "cell_type": "code",
      "source": [
        "#Creating a dataFrame using list\n",
        "import pandas as pd\n",
        "\n",
        "# list of strings\n",
        "lst = ['Apple' ,'Banana', 'Mango' , 'Grapes']\n",
        "\n",
        "# Calling DataFrame constructor on list\n",
        "df = pd.DataFrame(lst)\n",
        "print(df)"
      ],
      "metadata": {
        "colab": {
          "base_uri": "https://localhost:8080/"
        },
        "id": "ccCNaDm0Loea",
        "outputId": "0d3dc148-e851-43ec-fa2b-e0f1e596e11f"
      },
      "execution_count": 1,
      "outputs": [
        {
          "output_type": "stream",
          "name": "stdout",
          "text": [
            "        0\n",
            "0   Apple\n",
            "1  Banana\n",
            "2   Mango\n",
            "3  Grapes\n"
          ]
        }
      ]
    },
    {
      "cell_type": "code",
      "source": [
        "#Creating DataFrame from dict of ndarray/lists\n",
        "import pandas as pd\n",
        "\n",
        "# intialise data of lists.\n",
        "data = {'Name':['Tom', 'nick', 'krish', 'jack'],\n",
        "        'Age':[20, 21, 19, 18]}\n",
        "\n",
        "# Create DataFrame\n",
        "df = pd.DataFrame(data)\n",
        "\n",
        "# Print the output.\n",
        "print(df)"
      ],
      "metadata": {
        "colab": {
          "base_uri": "https://localhost:8080/"
        },
        "id": "WUOwnm23MnXQ",
        "outputId": "26ec29a4-d267-4388-a014-a3696c38e29e"
      },
      "execution_count": 2,
      "outputs": [
        {
          "output_type": "stream",
          "name": "stdout",
          "text": [
            "    Name  Age\n",
            "0    Tom   20\n",
            "1   nick   21\n",
            "2  krish   19\n",
            "3   jack   18\n"
          ]
        }
      ]
    },
    {
      "cell_type": "markdown",
      "source": [
        "**Dealing with rows and columns**\n",
        "A Data frame is a two-dimensional data structure, i.e., data is aligned in a tabular fashion in rows and columns. We can perform basic operations on rows/columns like selecting, deleting, adding, and renaming.\n"
      ],
      "metadata": {
        "id": "7A03D8V-M4Aa"
      }
    },
    {
      "cell_type": "code",
      "source": [
        "#Columns Selection\n",
        "import pandas as pd\n",
        "\n",
        "# Define a dictionary containing employee data\n",
        "data = {'Name':['Jai', 'Princi', 'Gaurav', 'Anuj'],\n",
        "        'Age':[27, 24, 22, 32],\n",
        "        'Address':['Delhi', 'Kanpur', 'Allahabad', 'Kannauj'],\n",
        "        'Qualification':['Msc', 'MA', 'MCA', 'Phd']}\n",
        "\n",
        "# Convert the dictionary into DataFrame\n",
        "df = pd.DataFrame(data)\n",
        "\n",
        "# select two columns\n",
        "print(df[['Name', 'Qualification']])"
      ],
      "metadata": {
        "colab": {
          "base_uri": "https://localhost:8080/"
        },
        "id": "ynM3ctYYNAH8",
        "outputId": "a5032864-7139-4a26-f267-a2621422512d"
      },
      "execution_count": 3,
      "outputs": [
        {
          "output_type": "stream",
          "name": "stdout",
          "text": [
            "     Name Qualification\n",
            "0     Jai           Msc\n",
            "1  Princi            MA\n",
            "2  Gaurav           MCA\n",
            "3    Anuj           Phd\n"
          ]
        }
      ]
    },
    {
      "cell_type": "markdown",
      "source": [
        "Row Selection\n",
        "Pandas provide a unique method to retrieve rows from a Data frame. DataFrame.loc[] method is used to retrieve rows from Pandas DataFrame. Rows can also be selected by passing integer location to an iloc[] function."
      ],
      "metadata": {
        "id": "2AD95FuQNTL5"
      }
    },
    {
      "cell_type": "code",
      "source": [
        "import pandas as pd\n",
        "\n",
        "# Create a sample DataFrame\n",
        "data = {'Name': ['Alice', 'Bob', 'Charlie', 'David', 'Emily'],\n",
        "        'Age': [25, 30, 35, 40, 45],\n",
        "        'City': ['New York', 'Los Angeles', 'Chicago', 'Houston', 'Miami']}\n",
        "df = pd.DataFrame(data)\n",
        "\n",
        "# Selecting rows using integer indexing with .iloc[]\n",
        "first_row = df.iloc[0]\n",
        "rows_2_to_4 = df.iloc[1:4]\n",
        "specific_rows = df.iloc[[0, 3, 4]]\n",
        "\n",
        "print(\"Rows selected using .iloc[]:\")\n",
        "print(\"First row:\\n\", first_row)\n",
        "print(\"\\nRows 2 to 4:\\n\", rows_2_to_4)\n",
        "print(\"\\nSpecific rows:\\n\", specific_rows)\n",
        "\n",
        "# Selecting rows using label indexing with .loc[]\n",
        "rows_with_labels = df.loc[[0, 2, 4]]\n",
        "print(\"\\nRows selected using .loc[]:\")\n",
        "print(\"Rows with labels 0, 2, and 4:\\n\", rows_with_labels)\n",
        "\n",
        "# Selecting rows using boolean indexing\n",
        "condition = df['Age'] > 30\n",
        "rows_matching_condition = df[condition]\n",
        "print(\"\\nRows selected using boolean indexing (Age > 30):\\n\", rows_matching_condition)\n",
        "\n",
        "# Selecting rows using query() method\n",
        "selected_rows = df.query('Age > 30 and City == \"New York\"')\n",
        "print(\"\\nRows selected using query() method (Age > 30 and City is New York):\\n\", selected_rows)\n",
        "\n",
        "# Selecting rows using isin() method\n",
        "selected_rows = df[df['Name'].isin(['Alice', 'Charlie'])]\n",
        "print(\"\\nRows selected using isin() method (Name is Alice or Charlie):\\n\", selected_rows)\n"
      ],
      "metadata": {
        "colab": {
          "base_uri": "https://localhost:8080/"
        },
        "id": "Ly9EyDy5NYhL",
        "outputId": "5236cd83-cdc7-48ff-f51d-f9400a0d3cc2"
      },
      "execution_count": 4,
      "outputs": [
        {
          "output_type": "stream",
          "name": "stdout",
          "text": [
            "Rows selected using .iloc[]:\n",
            "First row:\n",
            " Name       Alice\n",
            "Age           25\n",
            "City    New York\n",
            "Name: 0, dtype: object\n",
            "\n",
            "Rows 2 to 4:\n",
            "       Name  Age         City\n",
            "1      Bob   30  Los Angeles\n",
            "2  Charlie   35      Chicago\n",
            "3    David   40      Houston\n",
            "\n",
            "Specific rows:\n",
            "     Name  Age      City\n",
            "0  Alice   25  New York\n",
            "3  David   40   Houston\n",
            "4  Emily   45     Miami\n",
            "\n",
            "Rows selected using .loc[]:\n",
            "Rows with labels 0, 2, and 4:\n",
            "       Name  Age      City\n",
            "0    Alice   25  New York\n",
            "2  Charlie   35   Chicago\n",
            "4    Emily   45     Miami\n",
            "\n",
            "Rows selected using boolean indexing (Age > 30):\n",
            "       Name  Age     City\n",
            "2  Charlie   35  Chicago\n",
            "3    David   40  Houston\n",
            "4    Emily   45    Miami\n",
            "\n",
            "Rows selected using query() method (Age > 30 and City is New York):\n",
            " Empty DataFrame\n",
            "Columns: [Name, Age, City]\n",
            "Index: []\n",
            "\n",
            "Rows selected using isin() method (Name is Alice or Charlie):\n",
            "       Name  Age      City\n",
            "0    Alice   25  New York\n",
            "2  Charlie   35   Chicago\n"
          ]
        }
      ]
    },
    {
      "cell_type": "markdown",
      "source": [
        "Indexing and Selecting Data\n",
        "Indexing in pandas means simply selecting particular rows and columns of data from a DataFrame. Indexing could mean selecting all the rows and some of the columns, some of the rows and all of the columns, or some of each of the rows and columns. Indexing can also be known as Subset Selection.\n",
        "\n",
        "Indexing a Dataframe using indexing operator [] :\n",
        "Indexing operator is used to refer to the square brackets following an object. The .loc and .iloc indexers also use the indexing operator to make selections. In this indexing operator to refer to df[].\n",
        "\n"
      ],
      "metadata": {
        "id": "wkmg5WK3NvZf"
      }
    },
    {
      "cell_type": "code",
      "source": [
        "#Selecting a single column\n",
        "import pandas as pd\n",
        "\n",
        "# Create a sample DataFrame\n",
        "data = {'Name': ['Alice', 'Bob', 'Charlie', 'David', 'Emily'],\n",
        "        'Age': [25, 30, 35, 40, 45],\n",
        "        'City': ['New York', 'Los Angeles', 'Chicago', 'Houston', 'Miami']}\n",
        "df = pd.DataFrame(data)\n",
        "\n",
        "# Selecting a single column by name\n",
        "name_column = df['Name']\n",
        "\n",
        "print(\"Selected single column 'Name':\\n\", name_column)\n",
        "\n",
        "# Selecting a single column using attribute-style access\n",
        "age_column = df.Age\n",
        "\n",
        "print(\"\\nSelected single column 'Age' using attribute-style access:\\n\", age_column)\n"
      ],
      "metadata": {
        "colab": {
          "base_uri": "https://localhost:8080/"
        },
        "id": "Xou_FrwFN6r7",
        "outputId": "fcdc3aab-86c6-4db2-ff5a-99f2bff6d217"
      },
      "execution_count": 5,
      "outputs": [
        {
          "output_type": "stream",
          "name": "stdout",
          "text": [
            "Selected single column 'Name':\n",
            " 0      Alice\n",
            "1        Bob\n",
            "2    Charlie\n",
            "3      David\n",
            "4      Emily\n",
            "Name: Name, dtype: object\n",
            "\n",
            "Selected single column 'Age' using attribute-style access:\n",
            " 0    25\n",
            "1    30\n",
            "2    35\n",
            "3    40\n",
            "4    45\n",
            "Name: Age, dtype: int64\n"
          ]
        }
      ]
    },
    {
      "cell_type": "code",
      "source": [
        "#Selecting multiple columns\n",
        "import pandas as pd\n",
        "\n",
        "# Create a sample DataFrame\n",
        "data = {'Name': ['Alice', 'Bob', 'Charlie', 'David', 'Emily'],\n",
        "        'Age': [25, 30, 35, 40, 45],\n",
        "        'City': ['New York', 'Los Angeles', 'Chicago', 'Houston', 'Miami']}\n",
        "df = pd.DataFrame(data)\n",
        "\n",
        "# Selecting multiple columns by names\n",
        "selected_columns = df[['Name', 'Age']]\n",
        "\n",
        "print(\"Selected columns 'Name' and 'Age':\\n\", selected_columns)\n"
      ],
      "metadata": {
        "colab": {
          "base_uri": "https://localhost:8080/"
        },
        "id": "h-kUzqQYOLD2",
        "outputId": "0bd3dd78-0db4-461e-86f9-9ca522f0c9f6"
      },
      "execution_count": 6,
      "outputs": [
        {
          "output_type": "stream",
          "name": "stdout",
          "text": [
            "Selected columns 'Name' and 'Age':\n",
            "       Name  Age\n",
            "0    Alice   25\n",
            "1      Bob   30\n",
            "2  Charlie   35\n",
            "3    David   40\n",
            "4    Emily   45\n"
          ]
        }
      ]
    },
    {
      "cell_type": "code",
      "source": [
        "#Indexing\n",
        "import pandas as pd\n",
        "\n",
        "# Create a sample DataFrame\n",
        "data = {'Name': ['Alice', 'Bob', 'Charlie', 'David', 'Emily'],\n",
        "        'Age': [25, 30, 35, 40, 45],\n",
        "        'City': ['New York', 'Los Angeles', 'Chicago', 'Houston', 'Miami']}\n",
        "df = pd.DataFrame(data)\n",
        "\n",
        "# Setting 'Name' column as index\n",
        "df.set_index('Name', inplace=True)\n",
        "\n",
        "# Selecting row by label using .loc[]\n",
        "row_by_label = df.loc['Alice']\n",
        "print(\"Row selected by label ('Alice'):\\n\", row_by_label)\n",
        "\n",
        "# Selecting row by position using .iloc[]\n",
        "row_by_position = df.iloc[0]\n",
        "print(\"\\nRow selected by position (first row):\\n\", row_by_position)\n",
        "\n",
        "# Selecting column by label\n",
        "column_by_label = df['Age']\n",
        "print(\"\\nColumn selected by label ('Age'):\\n\", column_by_label)\n",
        "\n",
        "# Selecting column by position\n",
        "column_by_position = df.iloc[:, 1]\n",
        "print(\"\\nColumn selected by position (second column):\\n\", column_by_position)\n",
        "\n",
        "# Selecting subset of rows and columns by label using .loc[]\n",
        "subset_by_label = df.loc[['Alice', 'Charlie'], ['Age', 'City']]\n",
        "print(\"\\nSubset selected by label:\\n\", subset_by_label)\n",
        "\n",
        "# Selecting subset of rows and columns by position using .iloc[]\n",
        "subset_by_position = df.iloc[[0, 2], [0, 1]]\n",
        "print(\"\\nSubset selected by position:\\n\", subset_by_position)\n"
      ],
      "metadata": {
        "colab": {
          "base_uri": "https://localhost:8080/"
        },
        "id": "30p1mXbzOWs2",
        "outputId": "74fd1526-6835-4505-eb8a-4e9082b109da"
      },
      "execution_count": 8,
      "outputs": [
        {
          "output_type": "stream",
          "name": "stdout",
          "text": [
            "Row selected by label ('Alice'):\n",
            " Age           25\n",
            "City    New York\n",
            "Name: Alice, dtype: object\n",
            "\n",
            "Row selected by position (first row):\n",
            " Age           25\n",
            "City    New York\n",
            "Name: Alice, dtype: object\n",
            "\n",
            "Column selected by label ('Age'):\n",
            " Name\n",
            "Alice      25\n",
            "Bob        30\n",
            "Charlie    35\n",
            "David      40\n",
            "Emily      45\n",
            "Name: Age, dtype: int64\n",
            "\n",
            "Column selected by position (second column):\n",
            " Name\n",
            "Alice         New York\n",
            "Bob        Los Angeles\n",
            "Charlie        Chicago\n",
            "David          Houston\n",
            "Emily            Miami\n",
            "Name: City, dtype: object\n",
            "\n",
            "Subset selected by label:\n",
            "          Age      City\n",
            "Name                  \n",
            "Alice     25  New York\n",
            "Charlie   35   Chicago\n",
            "\n",
            "Subset selected by position:\n",
            "          Age      City\n",
            "Name                  \n",
            "Alice     25  New York\n",
            "Charlie   35   Chicago\n"
          ]
        }
      ]
    },
    {
      "cell_type": "markdown",
      "source": [
        "Iterating over rows and columns\n",
        "Iteration is a general term for taking each item of something, one after another. Pandas DataFrame consists of rows and columns so, in order to iterate over dataframe, we have to iterate a dataframe like a dictionary."
      ],
      "metadata": {
        "id": "oCXRT2PKO_pn"
      }
    },
    {
      "cell_type": "code",
      "source": [
        "#Iterating over rows\n",
        "import pandas as pd\n",
        "\n",
        "# dictionary of lists\n",
        "dict = {'name':[\"aparna\", \"pankaj\", \"sudhir\", \"Geeku\"],\n",
        "        'degree': [\"MBA\", \"BCA\", \"M.Tech\", \"MBA\"],\n",
        "        'score':[90, 40, 80, 98]}\n",
        "\n",
        "# creating a dataframe from a dictionary\n",
        "df = pd.DataFrame(dict)\n",
        "\n",
        "# iterating over rows using iterrows() function\n",
        "for i, j in df.iterrows():\n",
        "    print(i, j)\n",
        "    print()"
      ],
      "metadata": {
        "colab": {
          "base_uri": "https://localhost:8080/"
        },
        "id": "aVR4hwbkPElL",
        "outputId": "6a7055d3-9f5d-4e9b-ac53-e935596a2a47"
      },
      "execution_count": 9,
      "outputs": [
        {
          "output_type": "stream",
          "name": "stdout",
          "text": [
            "0 name      aparna\n",
            "degree       MBA\n",
            "score         90\n",
            "Name: 0, dtype: object\n",
            "\n",
            "1 name      pankaj\n",
            "degree       BCA\n",
            "score         40\n",
            "Name: 1, dtype: object\n",
            "\n",
            "2 name      sudhir\n",
            "degree    M.Tech\n",
            "score         80\n",
            "Name: 2, dtype: object\n",
            "\n",
            "3 name      Geeku\n",
            "degree      MBA\n",
            "score        98\n",
            "Name: 3, dtype: object\n",
            "\n"
          ]
        }
      ]
    },
    {
      "cell_type": "code",
      "source": [
        "#Iterating over columns\n",
        "import pandas as pd\n",
        "\n",
        "# Create a sample DataFrame\n",
        "data = {'Name': ['Alice', 'Bob', 'Charlie', 'David', 'Emily'],\n",
        "        'Age': [25, 30, 35, 40, 45],\n",
        "        'City': ['New York', 'Los Angeles', 'Chicago', 'Houston', 'Miami']}\n",
        "df = pd.DataFrame(data)\n",
        "\n",
        "# Method 1: Iterating over columns using iteritems()\n",
        "print(\"Iterating over columns using iteritems():\")\n",
        "for column_name, column_data in df.iteritems():\n",
        "    print(\"Column name:\", column_name)\n",
        "    print(\"Column data:\")\n",
        "    print(column_data)\n",
        "    print()\n",
        "\n",
        "# Method 2: Iterating over columns using a simple loop\n",
        "print(\"Iterating over columns using a simple loop:\")\n",
        "for column_name in df.columns:\n",
        "    print(\"Column name:\", column_name)\n",
        "    print(\"Column data:\")\n",
        "    print(df[column_name])\n",
        "    print()\n",
        "\n",
        "# Method 3: Iterating over columns using itertuples()\n",
        "print(\"Iterating over columns using itertuples():\")\n",
        "for column_tuple in df.itertuples():\n",
        "    print(\"Column name:\", column_tuple[0])\n",
        "    print(\"Column data:\")\n",
        "    print(column_tuple[1:])\n",
        "    print()\n"
      ],
      "metadata": {
        "id": "oGQLjZlgPNDn"
      },
      "execution_count": null,
      "outputs": []
    }
  ]
}