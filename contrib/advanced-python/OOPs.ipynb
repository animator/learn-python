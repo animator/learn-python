{
  "nbformat": 4,
  "nbformat_minor": 0,
  "metadata": {
    "colab": {
      "provenance": []
    },
    "kernelspec": {
      "name": "python3",
      "display_name": "Python 3"
    },
    "language_info": {
      "name": "python"
    }
  },
  "cells": [
    {
      "cell_type": "markdown",
      "source": [
        "**PYTHON OOP CONCEPTS**"
      ],
      "metadata": {
        "id": "WpcHLEIgeEdz"
      }
    },
    {
      "cell_type": "markdown",
      "source": [
        "In Python object-oriented Programming (OOPs) is a programming paradigm that uses objects and classes in programming. It aims to implement real-world entities like inheritance, polymorphisms, encapsulation, etc. in the programming. The main concept of object-oriented Programming (OOPs) or oops concepts in Python is to bind the data and the functions that work together as a single unit so that no other part of the code can access this data.\n",
        "\n",
        "**OOPs Concepts in Python**\n",
        "\n",
        "\n",
        "\n",
        "\n",
        "\n",
        "\n",
        "1.   Class in Python\n",
        "2.   Objects in Python\n",
        "\n",
        "1.  Polymorphism in Python\n",
        "2.  Encapsulation in Python\n",
        "1.   Inheritance in Python\n",
        "2.   \n",
        "Data Abstraction in Python\n",
        "\n",
        "\n",
        "\n",
        "\n",
        "\n",
        "\n"
      ],
      "metadata": {
        "id": "3j1W5YpNeEmS"
      }
    },
    {
      "cell_type": "markdown",
      "source": [
        "Python Class\n",
        "A class is a collection of objects. A class contains the blueprints or the prototype from which the objects are being created. It is a logical entity that contains some attributes and methods."
      ],
      "metadata": {
        "id": "3KQXMPlVeEyT"
      }
    },
    {
      "cell_type": "code",
      "source": [
        "#Simple Class in Python\n",
        "class Dog:\n",
        "    pass"
      ],
      "metadata": {
        "id": "6CdZhHSMerae"
      },
      "execution_count": 2,
      "outputs": []
    },
    {
      "cell_type": "markdown",
      "source": [
        "**Python Objects**\n",
        "In object oriented programming Python, The object is an entity that has a state and behavior associated with it. It may be any real-world object like a mouse, keyboard, chair, table, pen, etc. Integers, strings, floating-point numbers, even arrays, and dictionaries, are all objects."
      ],
      "metadata": {
        "id": "y5t7jyHAfAHl"
      }
    },
    {
      "cell_type": "code",
      "source": [
        "obj = Dog()"
      ],
      "metadata": {
        "id": "u8Y0G-hse-lm"
      },
      "execution_count": 3,
      "outputs": []
    },
    {
      "cell_type": "markdown",
      "source": [
        "**The Python __init__ Method **\n",
        "\n",
        "The __init__ method is similar to constructors in C++ and Java. It is run as soon as an object of a class is instantiated. The method is useful to do any initialization you want to do with your object."
      ],
      "metadata": {
        "id": "_FtRAPlNfLkb"
      }
    },
    {
      "cell_type": "code",
      "source": [
        "class Dog:\n",
        "\n",
        "    # class attribute\n",
        "    attr1 = \"mammal\"\n",
        "\n",
        "    # Instance attribute\n",
        "    def __init__(self, name):\n",
        "        self.name = name\n",
        "\n",
        "# Object instantiation\n",
        "Rodger = Dog(\"Rodger\")\n",
        "Tommy = Dog(\"Tommy\")\n",
        "\n",
        "# Accessing class attributes\n",
        "print(\"Rodger is a {}\".format(Rodger.__class__.attr1))\n",
        "print(\"Tommy is also a {}\".format(Tommy.__class__.attr1))\n",
        "\n",
        "# Accessing instance attributes\n",
        "print(\"My name is {}\".format(Rodger.name))\n",
        "print(\"My name is {}\".format(Tommy.name))\n"
      ],
      "metadata": {
        "colab": {
          "base_uri": "https://localhost:8080/"
        },
        "id": "aMmXUxLHfSz6",
        "outputId": "ed23bfbd-445a-4d02-ebba-c210471e0af2"
      },
      "execution_count": 4,
      "outputs": [
        {
          "output_type": "stream",
          "name": "stdout",
          "text": [
            "Rodger is a mammal\n",
            "Tommy is also a mammal\n",
            "My name is Rodger\n",
            "My name is Tommy\n"
          ]
        }
      ]
    },
    {
      "cell_type": "markdown",
      "source": [
        "**Inheritance**\n",
        "\n",
        "In Python object oriented Programming, Inheritance is the capability of one class to derive or inherit the properties from another class. The class that derives properties is called the derived class or child class and the class from which the properties are being derived is called the base class or parent class.\n",
        "\n",
        "Types of Inheritances:\n",
        "\n",
        "\n",
        "*   Single Inheritance\n",
        "*   Multilevel Inheritance\n",
        "   \n",
        "*   Multiple Inheritance\n",
        "*   Hierarchial Inheritance\n",
        "\n",
        "\n",
        "\n",
        "\n",
        "\n",
        "\n"
      ],
      "metadata": {
        "id": "YFMnh417fZI6"
      }
    },
    {
      "cell_type": "code",
      "source": [
        "#Single Inheritance\n",
        "# Parent class\n",
        "class Animal:\n",
        "    def __init__(self, name, sound):\n",
        "        self.name = name\n",
        "        self.sound = sound\n",
        "\n",
        "    def make_sound(self):\n",
        "        print(f\"{self.name} says {self.sound}\")\n",
        "\n",
        "# Child class inheriting from Animal\n",
        "class Dog(Animal):\n",
        "    def __init__(self, name):\n",
        "        # Call the constructor of the parent class\n",
        "        super().__init__(name, \"Woof\")\n",
        "\n",
        "# Child class inheriting from Animal\n",
        "class Cat(Animal):\n",
        "    def __init__(self, name):\n",
        "        # Call the constructor of the parent class\n",
        "        super().__init__(name, \"Meow\")\n",
        "\n",
        "# Creating objects of the derived classes\n",
        "dog = Dog(\"Buddy\")\n",
        "cat = Cat(\"Whiskers\")\n",
        "\n",
        "# Accessing methods of the parent class\n",
        "dog.make_sound()\n",
        "cat.make_sound()\n"
      ],
      "metadata": {
        "colab": {
          "base_uri": "https://localhost:8080/"
        },
        "id": "PeQoseXogE2f",
        "outputId": "9b3a069e-c6f0-41b0-b5f3-704aa0f95160"
      },
      "execution_count": 6,
      "outputs": [
        {
          "output_type": "stream",
          "name": "stdout",
          "text": [
            "Buddy says Woof\n",
            "Whiskers says Meow\n"
          ]
        }
      ]
    },
    {
      "cell_type": "code",
      "source": [
        "#Multilevel Inheritance\n",
        "# Parent class\n",
        "class Animal:\n",
        "    def __init__(self, name):\n",
        "        self.name = name\n",
        "\n",
        "    def speak(self):\n",
        "        print(f\"{self.name} speaks\")\n",
        "\n",
        "# Child class inheriting from Animal\n",
        "class Dog(Animal):\n",
        "    def bark(self):\n",
        "        print(f\"{self.name} barks\")\n",
        "\n",
        "# Grandchild class inheriting from Dog\n",
        "class GermanShepherd(Dog):\n",
        "    def guard(self):\n",
        "        print(f\"{self.name} guards\")\n",
        "\n",
        "# Creating objects of the derived classes\n",
        "german_shepherd = GermanShepherd(\"Rocky\")\n",
        "\n",
        "# Accessing methods from all levels of inheritance\n",
        "german_shepherd.speak()  # Accessing method from the Animal class\n",
        "german_shepherd.bark()   # Accessing method from the Dog class\n",
        "german_shepherd.guard()  # Accessing method from the GermanShepherd class\n"
      ],
      "metadata": {
        "colab": {
          "base_uri": "https://localhost:8080/"
        },
        "id": "CKEMq39BgSu9",
        "outputId": "b252ac43-6116-4a88-9ac9-0475f54e63c0"
      },
      "execution_count": 7,
      "outputs": [
        {
          "output_type": "stream",
          "name": "stdout",
          "text": [
            "Rocky speaks\n",
            "Rocky barks\n",
            "Rocky guards\n"
          ]
        }
      ]
    },
    {
      "cell_type": "code",
      "source": [
        "#Hierarchial Inheritance\n",
        "# Parent class\n",
        "class Animal:\n",
        "    def __init__(self, name):\n",
        "        self.name = name\n",
        "\n",
        "    def speak(self):\n",
        "        print(f\"{self.name} speaks\")\n",
        "\n",
        "# Child class 1 inheriting from Animal\n",
        "class Dog(Animal):\n",
        "    def bark(self):\n",
        "        print(f\"{self.name} barks\")\n",
        "\n",
        "# Child class 2 inheriting from Animal\n",
        "class Cat(Animal):\n",
        "    def meow(self):\n",
        "        print(f\"{self.name} meows\")\n",
        "\n",
        "# Creating objects of the derived classes\n",
        "dog = Dog(\"Buddy\")\n",
        "cat = Cat(\"Whiskers\")\n",
        "\n",
        "# Accessing methods from the parent and child classes\n",
        "dog.speak()  # Accessing method from the Animal class\n",
        "dog.bark()   # Accessing method from the Dog class\n",
        "cat.speak()  # Accessing method from the Animal class\n",
        "cat.meow()   # Accessing method from the Cat class\n"
      ],
      "metadata": {
        "colab": {
          "base_uri": "https://localhost:8080/"
        },
        "id": "wZ5qxZXBgdQ6",
        "outputId": "cd1c9d75-790c-49b3-8040-3334b896d779"
      },
      "execution_count": 8,
      "outputs": [
        {
          "output_type": "stream",
          "name": "stdout",
          "text": [
            "Buddy speaks\n",
            "Buddy barks\n",
            "Whiskers speaks\n",
            "Whiskers meows\n"
          ]
        }
      ]
    },
    {
      "cell_type": "code",
      "source": [
        "#Multiple Inheritance\n",
        "# Parent class 1\n",
        "class Herbivore:\n",
        "    def eat_plants(self):\n",
        "        print(\"Eating plants\")\n",
        "\n",
        "# Parent class 2\n",
        "class Carnivore:\n",
        "    def eat_meat(self):\n",
        "        print(\"Eating meat\")\n",
        "\n",
        "# Child class inheriting from both Herbivore and Carnivore\n",
        "class Omnivore(Herbivore, Carnivore):\n",
        "    def eat(self):\n",
        "        print(\"Eating everything\")\n",
        "\n",
        "# Creating an object of the Omnivore class\n",
        "omnivore = Omnivore()\n",
        "\n",
        "# Accessing methods from both parent classes\n",
        "omnivore.eat_plants()  # Accessing method from Herbivore\n",
        "omnivore.eat_meat()    # Accessing method from Carnivore\n",
        "omnivore.eat()         # Accessing method from Omnivore\n"
      ],
      "metadata": {
        "colab": {
          "base_uri": "https://localhost:8080/"
        },
        "id": "8nPMri12glO5",
        "outputId": "a3c93e8c-f10f-4cd7-c402-3500342c9e28"
      },
      "execution_count": 9,
      "outputs": [
        {
          "output_type": "stream",
          "name": "stdout",
          "text": [
            "Eating plants\n",
            "Eating meat\n",
            "Eating everything\n"
          ]
        }
      ]
    },
    {
      "cell_type": "markdown",
      "source": [
        "**Polymorphism**\n",
        "In object oriented Programming Python, Polymorphism simply means having many forms"
      ],
      "metadata": {
        "id": "KSw-WMePgvCa"
      }
    },
    {
      "cell_type": "code",
      "source": [
        "class Bird:\n",
        "\n",
        "    def intro(self):\n",
        "        print(\"There are many types of birds.\")\n",
        "\n",
        "    def flight(self):\n",
        "        print(\"Most of the birds can fly but some cannot.\")\n",
        "\n",
        "class sparrow(Bird):\n",
        "\n",
        "    def flight(self):\n",
        "        print(\"Sparrows can fly.\")\n",
        "\n",
        "class ostrich(Bird):\n",
        "\n",
        "    def flight(self):\n",
        "        print(\"Ostriches cannot fly.\")\n",
        "\n",
        "obj_bird = Bird()\n",
        "obj_spr = sparrow()\n",
        "obj_ost = ostrich()\n",
        "\n",
        "obj_bird.intro()\n",
        "obj_bird.flight()\n",
        "\n",
        "obj_spr.intro()\n",
        "obj_spr.flight()\n",
        "\n",
        "obj_ost.intro()\n",
        "obj_ost.flight()\n"
      ],
      "metadata": {
        "colab": {
          "base_uri": "https://localhost:8080/"
        },
        "id": "cIYtM2_Pg8Ja",
        "outputId": "e887848d-060a-4317-a805-cfb0ca4e187f"
      },
      "execution_count": 10,
      "outputs": [
        {
          "output_type": "stream",
          "name": "stdout",
          "text": [
            "There are many types of birds.\n",
            "Most of the birds can fly but some cannot.\n",
            "There are many types of birds.\n",
            "Sparrows can fly.\n",
            "There are many types of birds.\n",
            "Ostriches cannot fly.\n"
          ]
        }
      ]
    },
    {
      "cell_type": "markdown",
      "source": [
        "**Python Encapsulation**\n",
        "\n",
        "In Python object oriented programming, Encapsulation is one of the fundamental concepts in object-oriented programming (OOP). It describes the idea of wrapping data and the methods that work on data within one unit. This puts restrictions on accessing variables and methods directly and can prevent the accidental modification of data. To prevent accidental change, an object’s variable can only be changed by an object’s method. Those types of variables are known as private variables."
      ],
      "metadata": {
        "id": "NzsPIifmg-FI"
      }
    },
    {
      "cell_type": "code",
      "source": [
        "class Car:\n",
        "    def __init__(self, make, model, year):\n",
        "        self._make = make  # Encapsulated attribute with single underscore\n",
        "        self._model = model  # Encapsulated attribute with single underscore\n",
        "        self._year = year  # Encapsulated attribute with single underscore\n",
        "        self._odometer_reading = 0  # Encapsulated attribute with single underscore\n",
        "\n",
        "    def get_make(self):\n",
        "        return self._make\n",
        "\n",
        "    def get_model(self):\n",
        "        return self._model\n",
        "\n",
        "    def get_year(self):\n",
        "        return self._year\n",
        "\n",
        "    def get_odometer_reading(self):\n",
        "        return self._odometer_reading\n",
        "\n",
        "    def update_odometer(self, mileage):\n",
        "        if mileage >= self._odometer_reading:\n",
        "            self._odometer_reading = mileage\n",
        "        else:\n",
        "            print(\"You can't roll back an odometer!\")\n",
        "\n",
        "    def increment_odometer(self, miles):\n",
        "        self._odometer_reading += miles\n",
        "\n",
        "# Creating an instance of the Car class\n",
        "my_car = Car(\"Toyota\", \"Camry\", 2021)\n",
        "\n",
        "# Accessing encapsulated attributes through methods\n",
        "print(\"Make:\", my_car.get_make())\n",
        "print(\"Model:\", my_car.get_model())\n",
        "print(\"Year:\", my_car.get_year())\n",
        "\n",
        "# Modifying encapsulated attribute through method\n",
        "my_car.update_odometer(100)\n",
        "print(\"Odometer Reading:\", my_car.get_odometer_reading())\n",
        "\n",
        "# Incrementing odometer reading\n",
        "my_car.increment_odometer(50)\n",
        "print(\"Odometer Reading after increment:\", my_car.get_odometer_reading())\n"
      ],
      "metadata": {
        "colab": {
          "base_uri": "https://localhost:8080/"
        },
        "id": "etbhALMHhGb9",
        "outputId": "75f27d20-7cee-4c85-b722-b9beb5ffe2b8"
      },
      "execution_count": 11,
      "outputs": [
        {
          "output_type": "stream",
          "name": "stdout",
          "text": [
            "Make: Toyota\n",
            "Model: Camry\n",
            "Year: 2021\n",
            "Odometer Reading: 100\n",
            "Odometer Reading after increment: 150\n"
          ]
        }
      ]
    },
    {
      "cell_type": "markdown",
      "source": [
        "**Data Abstraction**\n",
        "It hides unnecessary code details from the user. Also,  when we do not want to give out sensitive parts of our code implementation and this is where data abstraction came.\n"
      ],
      "metadata": {
        "id": "hJkQ9Tn5hUEV"
      }
    },
    {
      "cell_type": "code",
      "source": [
        "from abc import ABC, abstractmethod\n",
        "\n",
        "# Abstract class defining the interface for a Shape\n",
        "class Shape(ABC):\n",
        "    def __init__(self, name):\n",
        "        self.name = name\n",
        "\n",
        "    @abstractmethod\n",
        "    def area(self):\n",
        "        pass\n",
        "\n",
        "    @abstractmethod\n",
        "    def perimeter(self):\n",
        "        pass\n",
        "\n",
        "# Concrete class implementing the Shape interface for a Rectangle\n",
        "class Rectangle(Shape):\n",
        "    def __init__(self, name, length, width):\n",
        "        super().__init__(name)\n",
        "        self.length = length\n",
        "        self.width = width\n",
        "\n",
        "    def area(self):\n",
        "        return self.length * self.width\n",
        "\n",
        "    def perimeter(self):\n",
        "        return 2 * (self.length + self.width)\n",
        "\n",
        "# Concrete class implementing the Shape interface for a Circle\n",
        "class Circle(Shape):\n",
        "    def __init__(self, name, radius):\n",
        "        super().__init__(name)\n",
        "        self.radius = radius\n",
        "\n",
        "    def area(self):\n",
        "        return 3.14 * self.radius * self.radius\n",
        "\n",
        "    def perimeter(self):\n",
        "        return 2 * 3.14 * self.radius\n",
        "\n",
        "# Creating objects of the derived classes\n",
        "rectangle = Rectangle(\"Rectangle\", 5, 4)\n",
        "circle = Circle(\"Circle\", 3)\n",
        "\n",
        "# Accessing methods defined by the Shape interface\n",
        "print(f\"{rectangle.name}: Area = {rectangle.area()}, Perimeter = {rectangle.perimeter()}\")\n",
        "print(f\"{circle.name}: Area = {circle.area()}, Perimeter = {circle.perimeter()}\")\n"
      ],
      "metadata": {
        "colab": {
          "base_uri": "https://localhost:8080/"
        },
        "id": "FoMRMWEEhc-Z",
        "outputId": "3a77fd0d-8116-4997-c35f-dfebfc786b72"
      },
      "execution_count": 12,
      "outputs": [
        {
          "output_type": "stream",
          "name": "stdout",
          "text": [
            "Rectangle: Area = 20, Perimeter = 18\n",
            "Circle: Area = 28.259999999999998, Perimeter = 18.84\n"
          ]
        }
      ]
    }
  ]
}